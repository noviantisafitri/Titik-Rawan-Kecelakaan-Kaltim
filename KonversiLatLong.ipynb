{
  "nbformat": 4,
  "nbformat_minor": 0,
  "metadata": {
    "colab": {
      "provenance": [],
      "authorship_tag": "ABX9TyOyBamYf3Jk52aHOuxhV0US",
      "include_colab_link": true
    },
    "kernelspec": {
      "name": "python3",
      "display_name": "Python 3"
    },
    "language_info": {
      "name": "python"
    }
  },
  "cells": [
    {
      "cell_type": "markdown",
      "metadata": {
        "id": "view-in-github",
        "colab_type": "text"
      },
      "source": [
        "<a href=\"https://colab.research.google.com/github/noviantisafitri/Titik-Rawan-Kecelakaan-Kaltim/blob/main/KonversiLatLong.ipynb\" target=\"_parent\"><img src=\"https://colab.research.google.com/assets/colab-badge.svg\" alt=\"Open In Colab\"/></a>"
      ]
    },
    {
      "cell_type": "code",
      "execution_count": 1,
      "metadata": {
        "colab": {
          "base_uri": "https://localhost:8080/"
        },
        "id": "aPcBGdU6MrBu",
        "outputId": "e9b29aa7-d88d-401b-91a9-be137ae6dae7"
      },
      "outputs": [
        {
          "output_type": "stream",
          "name": "stdout",
          "text": [
            "Requirement already satisfied: pyproj in /usr/local/lib/python3.11/dist-packages (3.7.1)\n",
            "Requirement already satisfied: certifi in /usr/local/lib/python3.11/dist-packages (from pyproj) (2025.6.15)\n"
          ]
        }
      ],
      "source": [
        "# Install pyproj untuk konversi UTM ke Lat-Long\n",
        "!pip install pyproj"
      ]
    },
    {
      "cell_type": "code",
      "source": [
        "import pandas as pd\n",
        "from pyproj import Transformer"
      ],
      "metadata": {
        "id": "s76MNf6vOSpN"
      },
      "execution_count": 2,
      "outputs": []
    },
    {
      "cell_type": "code",
      "source": [
        "# Ambil data CSV dari GitHub\n",
        "url = \"https://raw.githubusercontent.com/noviantisafitri/Titik-Rawan-Kecelakaan-Kaltim/refs/heads/main/FINAL%20TITIK%20BALIKPAPAN.csv\"\n",
        "df = pd.read_csv(url)"
      ],
      "metadata": {
        "id": "l7ZQ6NJhORDQ"
      },
      "execution_count": 3,
      "outputs": []
    },
    {
      "cell_type": "code",
      "source": [
        "# Tampilkan data awal\n",
        "print(\"Data Asli:\")\n",
        "print(df.head())"
      ],
      "metadata": {
        "colab": {
          "base_uri": "https://localhost:8080/"
        },
        "id": "n_1zO3JxOPgG",
        "outputId": "cba31204-106e-47fb-cd4a-e6ee7f94820c"
      },
      "execution_count": 4,
      "outputs": [
        {
          "output_type": "stream",
          "name": "stdout",
          "text": [
            "Data Asli:\n",
            "   FID  Shape                                               name  ORIG_FID  \\\n",
            "0    0  Point  ['Jalan Marsma Iswahyudi', 'Jalan Jenderal Sud...         0   \n",
            "1    1  Point                 ['Jalan Mulawarman', 'Mulawarman']         1   \n",
            "2    2  Point                                     Bundaran Rapak         2   \n",
            "3    3  Point                                 Jalan ARS Mohammad         3   \n",
            "4    4  Point                         Jalan Brigjen Ery Suparjan         4   \n",
            "\n",
            "       POINT_X      POINT_Y  \n",
            "0  485706.9962  9859137.943  \n",
            "1  496821.5514  9865589.514  \n",
            "2  481653.6330  9862726.665  \n",
            "3  481461.1350  9858961.027  \n",
            "4  481572.3418  9858928.969  \n"
          ]
        }
      ]
    },
    {
      "cell_type": "code",
      "source": [
        "# Inisialisasi transformer: UTM Zone 50S → WGS 84\n",
        "transformer = Transformer.from_crs(\"EPSG:32750\", \"EPSG:4326\", always_xy=True)"
      ],
      "metadata": {
        "id": "k6uui_bvON8t"
      },
      "execution_count": 5,
      "outputs": []
    },
    {
      "cell_type": "code",
      "source": [
        "# Konversi koordinat\n",
        "df[['Latitude', 'Longitude']] = df.apply(\n",
        "    lambda row: pd.Series(transformer.transform(row['POINT_X'], row['POINT_Y'])),\n",
        "    axis=1\n",
        ")"
      ],
      "metadata": {
        "id": "NgBuvh2iOL11"
      },
      "execution_count": 6,
      "outputs": []
    },
    {
      "cell_type": "code",
      "source": [
        "# Tampilkan hasil akhir\n",
        "print(\"\\nData dengan Latitude dan Longitude:\")"
      ],
      "metadata": {
        "colab": {
          "base_uri": "https://localhost:8080/"
        },
        "id": "AHtaBgYHOJxf",
        "outputId": "f4ea5847-2d5c-44e8-db7d-4b2310b3da38"
      },
      "execution_count": 7,
      "outputs": [
        {
          "output_type": "stream",
          "name": "stdout",
          "text": [
            "\n",
            "Data dengan Latitude dan Longitude:\n"
          ]
        }
      ]
    },
    {
      "cell_type": "code",
      "source": [
        "print(df[['name', 'POINT_X', 'POINT_Y', 'Latitude', 'Longitude']])"
      ],
      "metadata": {
        "colab": {
          "base_uri": "https://localhost:8080/"
        },
        "id": "ZaG7k-6POcFo",
        "outputId": "3b03f0ce-9c1c-42a7-eae7-0ea63194ad3d"
      },
      "execution_count": 8,
      "outputs": [
        {
          "output_type": "stream",
          "name": "stdout",
          "text": [
            "                                                 name      POINT_X  \\\n",
            "0   ['Jalan Marsma Iswahyudi', 'Jalan Jenderal Sud...  485706.9962   \n",
            "1                  ['Jalan Mulawarman', 'Mulawarman']  496821.5514   \n",
            "2                                      Bundaran Rapak  481653.6330   \n",
            "3                                  Jalan ARS Mohammad  481461.1350   \n",
            "4                          Jalan Brigjen Ery Suparjan  481572.3418   \n",
            "5                           Jalan Jenderal Ahmad Yani  481625.0758   \n",
            "6                             Jalan Jenderal Sudirman  484487.0006   \n",
            "7                                       Jalan Klamono  481638.7298   \n",
            "8                              Jalan Marsma Iswahyudi  489079.3812   \n",
            "9                                   Jalan Minyak Baru  481542.8231   \n",
            "10                                   Jalan Mulawarman  496783.8442   \n",
            "11                                       Jalan Pemuda  484612.4381   \n",
            "12                 Jalan Poros Samarinda - Balikpapan  484814.2353   \n",
            "13                                     Jalan Projakal  484692.4440   \n",
            "14                               Jalan Soekarno-Hatta  484188.5665   \n",
            "15                             Jalan Syarifuddin Yoes  488743.3389   \n",
            "16                     Jalan Tol Balikpapan–Samarinda  495442.1673   \n",
            "17                                         Mulawarman  496809.2145   \n",
            "18                                   Syarifuddin Yoes  488876.4835   \n",
            "\n",
            "        POINT_Y    Latitude  Longitude  \n",
            "0   9859137.943  116.871521  -1.274418  \n",
            "1   9865589.514  116.971430  -1.216052  \n",
            "2   9862726.665  116.835088  -1.241948  \n",
            "3   9858961.027  116.833355  -1.276016  \n",
            "4   9858928.969  116.834355  -1.276306  \n",
            "5   9862590.783  116.834831  -1.243177  \n",
            "6   9859298.661  116.860555  -1.272963  \n",
            "7   9862835.231  116.834954  -1.240966  \n",
            "8   9860860.541  116.901836  -1.258834  \n",
            "9   9862561.370  116.834091  -1.243443  \n",
            "10  9865547.122  116.971091  -1.216435  \n",
            "11  9859251.503  116.861682  -1.273390  \n",
            "12  9866146.748  116.863499  -1.211007  \n",
            "13  9866111.082  116.862404  -1.211330  \n",
            "14  9865821.399  116.857875  -1.213950  \n",
            "15  9861577.671  116.898815  -1.252346  \n",
            "16  9864118.585  116.959031  -1.229360  \n",
            "17  9865575.001  116.971319  -1.216183  \n",
            "18  9861403.419  116.900012  -1.253923  \n"
          ]
        }
      ]
    },
    {
      "cell_type": "code",
      "source": [
        "# Simpan ke CSV\n",
        "output_filename = \"Titik_Balikpapan_LatLong.csv\"\n",
        "df.to_csv(output_filename, index=False)"
      ],
      "metadata": {
        "id": "0njV9vI_OHPF"
      },
      "execution_count": 9,
      "outputs": []
    },
    {
      "cell_type": "code",
      "source": [
        "# Unduh file CSV hasil konversi\n",
        "from google.colab import files\n",
        "files.download(output_filename)"
      ],
      "metadata": {
        "colab": {
          "base_uri": "https://localhost:8080/",
          "height": 17
        },
        "id": "unjHb3ueOFau",
        "outputId": "2da9daea-39d0-4c3d-fe6f-cd6f42a4c19a"
      },
      "execution_count": 10,
      "outputs": [
        {
          "output_type": "display_data",
          "data": {
            "text/plain": [
              "<IPython.core.display.Javascript object>"
            ],
            "application/javascript": [
              "\n",
              "    async function download(id, filename, size) {\n",
              "      if (!google.colab.kernel.accessAllowed) {\n",
              "        return;\n",
              "      }\n",
              "      const div = document.createElement('div');\n",
              "      const label = document.createElement('label');\n",
              "      label.textContent = `Downloading \"${filename}\": `;\n",
              "      div.appendChild(label);\n",
              "      const progress = document.createElement('progress');\n",
              "      progress.max = size;\n",
              "      div.appendChild(progress);\n",
              "      document.body.appendChild(div);\n",
              "\n",
              "      const buffers = [];\n",
              "      let downloaded = 0;\n",
              "\n",
              "      const channel = await google.colab.kernel.comms.open(id);\n",
              "      // Send a message to notify the kernel that we're ready.\n",
              "      channel.send({})\n",
              "\n",
              "      for await (const message of channel.messages) {\n",
              "        // Send a message to notify the kernel that we're ready.\n",
              "        channel.send({})\n",
              "        if (message.buffers) {\n",
              "          for (const buffer of message.buffers) {\n",
              "            buffers.push(buffer);\n",
              "            downloaded += buffer.byteLength;\n",
              "            progress.value = downloaded;\n",
              "          }\n",
              "        }\n",
              "      }\n",
              "      const blob = new Blob(buffers, {type: 'application/binary'});\n",
              "      const a = document.createElement('a');\n",
              "      a.href = window.URL.createObjectURL(blob);\n",
              "      a.download = filename;\n",
              "      div.appendChild(a);\n",
              "      a.click();\n",
              "      div.remove();\n",
              "    }\n",
              "  "
            ]
          },
          "metadata": {}
        },
        {
          "output_type": "display_data",
          "data": {
            "text/plain": [
              "<IPython.core.display.Javascript object>"
            ],
            "application/javascript": [
              "download(\"download_573ab170-edcd-456a-a20b-a7a59d910f3e\", \"Titik_Balikpapan_LatLong.csv\", 1899)"
            ]
          },
          "metadata": {}
        }
      ]
    }
  ]
}